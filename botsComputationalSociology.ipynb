{
  "nbformat": 4,
  "nbformat_minor": 0,
  "metadata": {
    "colab": {
      "name": "bots_computational_sociology.ipynb",
      "provenance": [],
      "collapsed_sections": []
    },
    "kernelspec": {
      "name": "python3",
      "display_name": "Python 3"
    }
  },
  "cells": [
    {
      "cell_type": "markdown",
      "metadata": {
        "id": "f9_j5j13WLmC"
      },
      "source": [
        "Code appendix to\n",
        "\n",
        "# Computational approaches in rigorous sociology: Agent-based computational sociology and computational social science\n",
        "### Andreas Flache, Michael Mäs & Marijn Keijzer\n",
        "\n",
        "In Gërxhani, De Graaf & Raub (Eds.) *Handbook of Sociological Science. Contributions to Rigorous Sociology*\n",
        "\n",
        "---\n",
        "\n",
        "This notebook contains the code necessarry to replicate the example from the chapter, illustrating the *strength-of-weak-bots* effect.\n",
        "\n",
        "For a more in-depth analysis of the mechanism, see:\n",
        "\n",
        "Keijzer & Mäs (2021). The Strength of Weak Bots. *Online Social Networks and Media*, 21(100106). https://doi.org/10.1016/j.osnem.2020.100106"
      ]
    },
    {
      "cell_type": "code",
      "metadata": {
        "id": "UneeC-iAQp1F",
        "colab": {
          "base_uri": "https://localhost:8080/"
        },
        "outputId": "cfa742bb-9761-40b7-cb06-6d4c5211876b"
      },
      "source": [
        "!pip install defSim\n",
        "\n",
        "import defSim as ds        # for our social influence model simulations\n",
        "import random              # allows us to set a seed for replicable simulations\n",
        "import networkx as nx      # handles the construction of networks\n",
        "import numpy as np\n",
        "\n",
        "import time\n",
        "import csv"
      ],
      "execution_count": 1,
      "outputs": [
        {
          "output_type": "stream",
          "text": [
            "Collecting defSim\n",
            "\u001b[?25l  Downloading https://files.pythonhosted.org/packages/7b/33/d1dbd439beb63ff0f5e2bfc7641203c7885774cfa44adc67a754863ee27f/defSim-0.1.0.tar.gz (44kB)\n",
            "\r\u001b[K     |███████▍                        | 10kB 13.5MB/s eta 0:00:01\r\u001b[K     |██████████████▊                 | 20kB 18.5MB/s eta 0:00:01\r\u001b[K     |██████████████████████          | 30kB 15.5MB/s eta 0:00:01\r\u001b[K     |█████████████████████████████▍  | 40kB 11.4MB/s eta 0:00:01\r\u001b[K     |████████████████████████████████| 51kB 2.5MB/s \n",
            "\u001b[?25hRequirement already satisfied: networkx>=2.4 in /usr/local/lib/python3.7/dist-packages (from defSim) (2.5)\n",
            "Requirement already satisfied: numpy>=1.17 in /usr/local/lib/python3.7/dist-packages (from defSim) (1.19.5)\n",
            "Requirement already satisfied: pandas in /usr/local/lib/python3.7/dist-packages (from defSim) (1.1.5)\n",
            "Requirement already satisfied: scipy>=1.1.0 in /usr/local/lib/python3.7/dist-packages (from defSim) (1.4.1)\n",
            "Requirement already satisfied: decorator>=4.3.0 in /usr/local/lib/python3.7/dist-packages (from networkx>=2.4->defSim) (4.4.2)\n",
            "Requirement already satisfied: pytz>=2017.2 in /usr/local/lib/python3.7/dist-packages (from pandas->defSim) (2018.9)\n",
            "Requirement already satisfied: python-dateutil>=2.7.3 in /usr/local/lib/python3.7/dist-packages (from pandas->defSim) (2.8.1)\n",
            "Requirement already satisfied: six>=1.5 in /usr/local/lib/python3.7/dist-packages (from python-dateutil>=2.7.3->pandas->defSim) (1.15.0)\n",
            "Building wheels for collected packages: defSim\n",
            "  Building wheel for defSim (setup.py) ... \u001b[?25l\u001b[?25hdone\n",
            "  Created wheel for defSim: filename=defSim-0.1.0-cp37-none-any.whl size=64589 sha256=6bda10502ffb60ce1c1b6316297263745449a0ba53d1c030522ba62cadf79be6\n",
            "  Stored in directory: /root/.cache/pip/wheels/68/3f/17/af48ffb500cf6c9c289021d40986646551032d2f9e21a73f0c\n",
            "Successfully built defSim\n",
            "Installing collected packages: defSim\n",
            "Successfully installed defSim-0.1.0\n"
          ],
          "name": "stdout"
        }
      ]
    },
    {
      "cell_type": "markdown",
      "metadata": {
        "id": "sLeFFtsbaATA"
      },
      "source": [
        "## Functions and procedures"
      ]
    },
    {
      "cell_type": "code",
      "metadata": {
        "id": "ZTRi3TErQjuc"
      },
      "source": [
        "# Function to loop over parameter combinations indefinitely\n",
        "class Circ(list):\n",
        "    def __getitem__(self, idx):\n",
        "        return super(Circ, self).__getitem__(idx % len(self))\n",
        "\n",
        "\n",
        "# Procedure for a single run of the ABCM\n",
        "def simulation_run(bot_connectedness=.25,\n",
        "                   bot_activation_rate=.25,\n",
        "                   N=100,\n",
        "                   K=10,\n",
        "                   max_ticks=250000,\n",
        "                   homophily=1,\n",
        "                   seed=None):\n",
        "    \"\"\"\n",
        "    This function\n",
        "        1. Creates the Axelrod model as a NetworkX graph object with a bot\n",
        "        2. Executes similarity biased influence between\n",
        "            a. the BOT and a randomly selected network neighbor \n",
        "               (with p = bot_activation_rate)\n",
        "            b. two randomly selected network neighbors \n",
        "               (with p = 1-bot_activation_rate)\n",
        "        3. Returns graph object when no further influence is possible (or after \n",
        "           250,000 ticks)\n",
        "    \"\"\"\n",
        "\n",
        "    ## PHASE 1) INITIALIZATION\n",
        "\n",
        "    random.seed(seed)   # seed the run for replicability\n",
        "\n",
        "    # create network object and initialize agent attributes\n",
        "    G = nx.watts_strogatz_graph(N,K,0.05,seed)\n",
        "    ds.initialize_attributes(G, realization=\"random_categorical\", \n",
        "                             num_features=3, num_traits=3)\n",
        "\n",
        "    # add the bot to the graph\n",
        "    agentlist = list(G.nodes())\n",
        "    G.add_node(\"bot\")\n",
        "    G.nodes[\"bot\"][\"f01\"] = 99        # Unique bot trait, used to track \n",
        "                                      # the bot's effectiveness\n",
        "    G.nodes[\"bot\"][\"f02\"] = 0\n",
        "    G.nodes[\"bot\"][\"f03\"] = 0\n",
        "\n",
        "    friends_of_bot = random.sample(agentlist, int(bot_connectedness * N))\n",
        "    for j in friends_of_bot:\n",
        "        G.add_edge(\"bot\", j)\n",
        "\n",
        "    # calculate the dissimilarity on all edges\n",
        "    calculator = ds.dissimilarity_calculator.select_calculator(\"hamming\")\n",
        "    calculator.calculate_dissimilarity_networkwide(G)\n",
        "\n",
        "    # store the indices of direct and indirect contacts of the bot\n",
        "    shortest_paths = nx.shortest_path_length(G, 'bot')\n",
        "    agents_l1 = [key for key, val in shortest_paths.items() if val == 1]\n",
        "    agents_l2 = [key for key, val in shortest_paths.items() if val >= 2]\n",
        "\n",
        "    # initialize ticks, stop variable, and tickwise dictionaries for output\n",
        "    ticks = 0\n",
        "    stop = False\n",
        "\n",
        "    ## PHASE 2) SIMULATION\n",
        "\n",
        "    while (not stop):\n",
        "        ticks += 1\n",
        "\n",
        "        # choose sending agent\n",
        "        if random.random() > bot_activation_rate:\n",
        "            agent_i = ds.select_focal_agent(G, \"random\", agentlist=agentlist)\n",
        "        else:\n",
        "            agent_i = \"bot\"\n",
        "\n",
        "        # choose receiving agent\n",
        "        agent_j = [\"bot\"]\n",
        "        while agent_j == [\"bot\"]:\n",
        "            agent_j = [(random.choice([neighbor for neighbor in G[agent_i]]))]\n",
        "\n",
        "        # exert influence\n",
        "        ds.influence_sim.spread_influence(G, \n",
        "                                          \"similarity_adoption\", \n",
        "                                          agent_i, agent_j, \n",
        "                                          \"one-to-one\", \n",
        "                                          calculator, \n",
        "                                          homophily=homophily)\n",
        "\n",
        "        # stop the execution if condition is true\n",
        "        if (not any([True for i, j, d in G.edges.data('dist') if 0.1 < d < .9]) \n",
        "           or ticks > max_ticks):\n",
        "            return G, ticks\n",
        "\n",
        "\n",
        "# Procedure for running the experiment (repeated call to simulation_run)\n",
        "def experiment(id=None):\n",
        "    N = 100\n",
        "\n",
        "    connect = [.1,.4]\n",
        "    activate = [.4]\n",
        "    proximity = [1]\n",
        "    homo = [0.25, 1, 4]\n",
        "    conditions = Circ([(x, y, z, zz) for x in connect \n",
        "                                     for y in activate \n",
        "                                     for z in proximity \n",
        "                                     for zz in homo])\n",
        "\n",
        "    bot_connectedness, bot_activation_rate, proxweight, homophily = conditions[id]\n",
        "\n",
        "    seed = random.randint(10000, 99999)\n",
        "    random.seed(seed)\n",
        "\n",
        "    G, ticks = simulation_run(bot_connectedness= bot_connectedness,\n",
        "                              bot_activation_rate=bot_activation_rate,\n",
        "                              homophily=homophily,\n",
        "                              seed=seed,\n",
        "                              max_ticks=200000)\n",
        "\n",
        "    shortest_paths = nx.shortest_path_length(G, 'bot')\n",
        "    agents_l1 = [key for key, val in shortest_paths.items() if val == 1]\n",
        "    agents_l2 = [key for key, val in shortest_paths.items() if val >= 2]\n",
        "\n",
        "    output_line = dict(\n",
        "        Seed=seed,\n",
        "        BotConnectedness=bot_connectedness,\n",
        "        BotActivationRate=bot_activation_rate,\n",
        "        N=N,\n",
        "        Ticks=ticks,\n",
        "        DiffTotal=len([1 for i in G.nodes() if G.nodes[i]['f01'] == 99]),\n",
        "        NagentsL1=len(agents_l1),\n",
        "        DiffAgentsL1=len([1 for i in agents_l1 if G.nodes[i]['f01'] == 99]),\n",
        "        NagentsL2=len(agents_l2),\n",
        "        DiffAgentsL2=len([1 for i in agents_l2 if G.nodes[i]['f01'] == 99]),\n",
        "        ProximityWeight=proxweight,\n",
        "        Homophily=homophily\n",
        "    )\n",
        "\n",
        "    a_file = open(\"bots_homophily.csv\", \"a\")\n",
        "    writer = csv.writer(a_file)\n",
        "\n",
        "    writer.writerow(output_line.values())\n",
        "\n",
        "    a_file.close()"
      ],
      "execution_count": 2,
      "outputs": []
    },
    {
      "cell_type": "markdown",
      "metadata": {
        "id": "fECcAwFtZ58Y"
      },
      "source": [
        "## Running the experiment"
      ]
    },
    {
      "cell_type": "code",
      "metadata": {
        "id": "6NwYYtDR5JZP",
        "colab": {
          "base_uri": "https://localhost:8080/",
          "height": 34
        },
        "outputId": "9da99fe6-3031-4dd5-9d38-06d2f7d22f01"
      },
      "source": [
        "number_of_conditions = 6       # 2 (connectivity) X 3 (homophily)\n",
        "number_of_repetitions = 25     # times each condition needs to be run\n",
        "number_of_runs = number_of_conditions * number_of_repetitions\n",
        "\n",
        "from tqdm import tqdm\n",
        "for id in tqdm(range(number_of_runs)):\n",
        "    experiment(id)"
      ],
      "execution_count": null,
      "outputs": [
        {
          "output_type": "stream",
          "text": [
            "100%|██████████| 150/150 [33:00<00:00, 13.20s/it]\n"
          ],
          "name": "stderr"
        }
      ]
    }
  ]
}